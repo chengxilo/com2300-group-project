{
 "cells": [
  {
   "cell_type": "code",
   "execution_count": null,
   "id": "ac169108-2808-467d-84fe-0a7563347061",
   "metadata": {},
   "outputs": [],
   "source": [
    "import pandas as pd\n",
    "from sodapy import Socrata\n",
    "import os\n",
    "import matplotlib.pyplot as plt\n",
    "import numpy as np\n",
    "import re\n",
    "\n",
    "HATECRIME_DATA_FILENAME = r\"data\\hatecrime_opennyc.csv\"\n",
    "# if the file not exists, request the data from nyc open data.\n",
    "if not os.path.exists(HATECRIME_DATA_FILENAME):\n",
    "    client = Socrata(\"data.cityofnewyork.us\", None)\n",
    "\n",
    "    # there is only 3575, so I set limit=4000 to get all the data from it.\n",
    "    results = client.get(\"bqiq-cu78\", limit=4000)\n",
    "\n",
    "    # Convert to pandas DataFrame\n",
    "    results_df = pd.DataFrame.from_records(results)\n",
    "    results_df.to_csv(HATECRIME_DATA_FILENAME, index = False)\n",
    "\n",
    "# read data from csv file.\n",
    "df = pd.read_csv(HATECRIME_DATA_FILENAME)\n",
    "\n",
    "# remove some useless prefix in the data set. contains data for [2019, 2020, 2021, 2022, 2023, 2024, 2025]\n",
    "df[\"patrol_borough_name\"] = df[\"patrol_borough_name\"].apply(lambda x: x.replace(\"PATROL BORO \", \"\"))\n",
    "\n",
    "# remove 2025, since it is not end, the data is not accurate.\n",
    "df = df[df[\"complaint_year_number\"] != 2025]"
   ]
  },
  {
   "cell_type": "code",
   "execution_count": null,
   "id": "ff1f4a47-4056-4f7f-91f0-6cae8c127eac",
   "metadata": {},
   "outputs": [],
   "source": [
    "by_year_region = df.groupby([\"complaint_year_number\",\"patrol_borough_name\"])[\"full_complaint_id\"].count().unstack(level=\"patrol_borough_name\")\n",
    "# currently the columns name is patrol_borough_name. We don't need it so just remove it\n",
    "by_year_region.columns.name = None\n",
    "# calculate total\n",
    "by_year_region.loc['total'] = by_year_region.sum()\n",
    "# rename columns\n",
    "# Rename columns for readability\n",
    "by_year_region.rename(columns={\n",
    "    \"BKLYN NORTH\": \"Brooklyn North\",\n",
    "    \"BKLYN SOUTH\": \"Brooklyn South\",\n",
    "    \"BRONX\": \"Bronx\",\n",
    "    \"MAN NORTH\": \"Manhattan North\",\n",
    "    \"MAN SOUTH\": \"Manhattan South\",\n",
    "    \"QUEENS NORTH\": \"Queens North\",\n",
    "    \"QUEENS SOUTH\": \"Queens South\",\n",
    "    \"STATEN ISLAND\": \"Staten Island\"\n",
    "}, inplace=True)\n",
    "by_year_region.to_csv(\"nyc_hate_crime_by_year_region.csv\")\n",
    "by_year_region"
   ]
  },
  {
   "cell_type": "code",
   "execution_count": null,
   "id": "64604a79-4628-4df9-aaae-24c0555fa850",
   "metadata": {},
   "outputs": [],
   "source": [
    "# analysis part.\n",
    "by_year = df.groupby([\"complaint_year_number\",\"bias_motive_description\"])[\"full_complaint_id\"].count().unstack(\"bias_motive_description\")\n",
    "# after fillna(0), the output of the table content become float number. use astype to parse them back to int.\n",
    "by_year = by_year[[\"ANTI-ASIAN\",\"ANTI-BLACK\",\"ANTI-MALE HOMOSEXUAL (GAY)\",\"ANTI-JEWISH\"]]\n",
    "# remove columns name\n",
    "by_year.columns.name = None\n",
    "by_year = by_year.fillna(0).astype(int)\n",
    "by_year.to_csv(\"hate_crime_bias_motive_description_by_year.csv\")\n",
    "by_year"
   ]
  },
  {
   "cell_type": "code",
   "execution_count": null,
   "id": "30aa2dcf-6217-4ffc-ae20-a44d8c3b129d",
   "metadata": {
    "scrolled": true
   },
   "outputs": [],
   "source": [
    "# draw a pie graph. I use some package not in our class(but actually it was used by pandas, so it is somehow, part of our class). \n",
    "# So I can draw a more, beauitiful pie grpah.\n",
    "# here is the link(where I copy these code)\n",
    "# https://matplotlib.org/stable/gallery/pie_and_polar_charts/pie_and_donut_labels.html\n",
    "def drawBiasMotivation(s):\n",
    "    fig, ax = plt.subplots(figsize=(18, 6), dpi= 300, subplot_kw=dict(aspect=\"equal\"))\n",
    "    data = s.values\n",
    "    labels = s.index\n",
    "    wedges, texts, autotexts = ax.pie(data, autopct=lambda pct: f\"{pct:.2f}%\\n\" if pct > 1 else \"\", textprops=dict(color=\"w\"))\n",
    "\n",
    "    ax.legend(wedges, \n",
    "              [f\"{label}   {(count / s.sum()) * 100:.2f}% ({count})\"for count, label in zip(data, labels)],\n",
    "              loc=\"center left\",\n",
    "              bbox_to_anchor=(1, 0, 0.5, 1))\n",
    "\n",
    "    plt.setp(autotexts, size=8, weight=\"bold\")\n",
    "\n",
    "    ax.set_title(\"Hate Crime Bias Motivation\")\n",
    "    plt.show()\n",
    "drawBiasMotivation(df.value_counts(\"bias_motive_description\"))"
   ]
  },
  {
   "cell_type": "code",
   "execution_count": null,
   "id": "04aaa142-8ef3-45a5-b815-84755124a9d7",
   "metadata": {},
   "outputs": [],
   "source": [
    "# index is the year, sort_index is sort the value by index\n",
    "# number of nyc anti-jewish each year.\n",
    "anti_jewish = df[df['bias_motive_description'] == \"ANTI-JEWISH\"]['complaint_year_number'].value_counts().sort_index()\n",
    "# number of nyc hate crime each year.\n",
    "hate_crime = df['complaint_year_number'].value_counts().sort_index()"
   ]
  },
  {
   "cell_type": "code",
   "execution_count": null,
   "id": "7befef67-d7fd-451d-b6c3-0441e7904cc8",
   "metadata": {},
   "outputs": [],
   "source": [
    "anti_jewish"
   ]
  },
  {
   "cell_type": "code",
   "execution_count": null,
   "id": "d55c801e-c699-4bfa-889d-904b0b26621d",
   "metadata": {},
   "outputs": [],
   "source": [
    "hate_crime"
   ]
  },
  {
   "cell_type": "code",
   "execution_count": null,
   "id": "f6f497f5-58ef-4df9-ae7d-ff7d474698e5",
   "metadata": {},
   "outputs": [],
   "source": [
    "# use lambda as a variable, very easy to understand I guess.\n",
    "parse_pct = lambda x: (f\"{x * 100:.2f}%\" if not pd.isna(x) else \"N/A\")\n",
    "# get percent change data of both hate crime total incidents and anti-jewish inicdents.\n",
    "hate_crime_change = hate_crime.pct_change().apply(parse_pct)\n",
    "anti_jewish_change = anti_jewish.pct_change().apply(parse_pct)\n",
    "con = pd.concat([hate_crime,hate_crime_change,anti_jewish,anti_jewish_change],axis=1)\n",
    "\n",
    "# change column names.\n",
    "con.columns = [\"Hate Crime Incidents\",\"Hate Crime Incidents Change\",\"ANTI-Jewish Hate Crime Incidents\",\"ANTI-Jewish Hate Crime Incidents Change\"]\n",
    "# write to csv files.\n",
    "con.to_csv(\"hate_crime_and_anti_jewish_yearly_change.csv\")\n",
    "# set index name to none would looks better.\n",
    "con.index.name = None\n",
    "con"
   ]
  },
  {
   "cell_type": "code",
   "execution_count": null,
   "id": "a612e6bf-8f04-44e5-93fb-a3729acfef31",
   "metadata": {},
   "outputs": [],
   "source": [
    "number_of_nyc_hate_crime_2023 = hate_crime[2023]\n",
    "hate_crime"
   ]
  },
  {
   "cell_type": "code",
   "execution_count": null,
   "id": "c5eee6f1-0cc6-46ba-9c89-881d25be09fa",
   "metadata": {},
   "outputs": [],
   "source": [
    "import requests\n",
    "import os\n",
    "import pandas as pd\n",
    "import matplotlib.pyplot as plt\n",
    "\n",
    "HATE_CRIME_BIAS_TYPE2023 = r\"data\\hate_crime_bias_type_2023.xlsx\"\n",
    "\n",
    "# if file doesn't exist, get the data from url, write it into a file\n",
    "if not os.path.exists(HATE_CRIME_BIAS_TYPE2023):\n",
    "    res = requests.get(\"https://www.criminaljustice.ny.gov/crimnet/ojsa/hatecrimesbiastype2023.xlsx\")\n",
    "    # write + binary mode\n",
    "    with open(HATE_CRIME_BIAS_TYPE2023, \"wb\") as f:\n",
    "        f.write(res.content)\n",
    "\n",
    "# read the file we downloaded.\n",
    "df = pd.read_excel(HATE_CRIME_BIAS_TYPE2023)\n",
    "\n",
    "# get the row which contains the data of total_incidents.\n",
    "total_incidents_row = df.iloc[4]\n",
    "\n",
    "# get the row which contains the data of anti_jewish incidents.\n",
    "anti_jewish_row = df.iloc[9]\n",
    "\n",
    "# list of years which was included in the data.\n",
    "year_list = [\"2019\", \"2020\", \"2021\", \"2022\", \"2023\"]\n",
    "\n",
    "\n",
    "def get_year_region_df(s):\n",
    "    # only keep those numbers.\n",
    "    s = s[2:]\n",
    "    nystate = [s.iloc[i] for i in range(len(year_list))]\n",
    "    nyc = [s.iloc[i + 5] for i in range(len(year_list))]\n",
    "    non_nyc = [s.iloc[i + 10] for i in range(len(year_list))]\n",
    "    df = pd.DataFrame({\n",
    "        # \"NYState\":nystate,\n",
    "        \"NYC\": nyc,\n",
    "        \"Non-NYC\": non_nyc\n",
    "    })\n",
    "    df.index = year_list\n",
    "    # df.drop(\"2023\", inplace=True)  # drop 2023 since there are NaN data.\n",
    "    return df\n",
    "total_incidents_df = get_year_region_df(total_incidents_row)\n",
    "total_incidents_df"
   ]
  },
  {
   "cell_type": "code",
   "execution_count": null,
   "id": "6cab2faf-2902-4c18-a390-0d791a9fae71",
   "metadata": {},
   "outputs": [],
   "source": [
    "non_nyc_hate_crime_2023 = int(total_incidents_df.loc[\"2023\", \"Non-NYC\"])\n",
    "non_nyc_hate_crime_2023"
   ]
  },
  {
   "cell_type": "code",
   "execution_count": null,
   "id": "ebc62e93-1e0a-4128-a896-e80331842866",
   "metadata": {},
   "outputs": [],
   "source": [
    "import os\n",
    "\n",
    "import sodapy\n",
    "import pandas as pd\n",
    "\n",
    "HATE_CRIME_BY_COUNTY_BIAS_BEGINNING_2010 = r\"data\\hatecrime_by_county.csv\"\n",
    "\n",
    "# doesn't exist, use Socrata to get the data\n",
    "if not os.path.exists(HATE_CRIME_BY_COUNTY_BIAS_BEGINNING_2010):\n",
    "    client = sodapy.Socrata(\"data.ny.gov\", app_token=None)\n",
    "    res = client.get(\"6xda-q7ev\", limit=1000)\n",
    "    res_df = pd.DataFrame.from_records(res)\n",
    "    res_df.to_csv(HATE_CRIME_BY_COUNTY_BIAS_BEGINNING_2010, index=False)\n",
    "\n",
    "# read the data from csv\n",
    "df = pd.read_csv(HATE_CRIME_BY_COUNTY_BIAS_BEGINNING_2010)\n",
    "# those county located in New York State\n",
    "nyc_county_list = [\"Bronx\", \"Kings\", \"New York\", \"Queens\", \"Richmond\"]\n",
    "# set incidents type to int. If we don't do this step, the output will be 350.0(float). Doesn't look good.\n",
    "df[\"total_incidents\"] = df[\"total_incidents\"].astype(int)\n",
    "s1 = df[df[\"county\"].isin(nyc_county_list)].groupby(\"year\")[[\"total_incidents\"]].sum()\n",
    "s2 = df[~ df[\"county\"].isin(nyc_county_list)].groupby(\"year\")[[\"total_incidents\"]].sum()\n",
    "hate_crimes_nyc_ros = pd.concat([s1, s2], axis=1, ignore_index=True)\n",
    "hate_crimes_nyc_ros = hate_crimes_nyc_ros.rename(columns={0: \"New York City\", 1: \"Rest of State\"})\n",
    "hate_crimes_nyc_ros.loc[2023] = [number_of_nyc_hate_crime_2023, non_nyc_hate_crime_2023]\n",
    "hate_crimes_nyc_ros.to_excel(\"beginning2010.xlsx\")\n",
    "hate_crimes_nyc_ros"
   ]
  },
  {
   "cell_type": "code",
   "execution_count": null,
   "id": "61dbfca0-bb51-4422-8f3a-1bd023949102",
   "metadata": {},
   "outputs": [],
   "source": [
    "sub = hate_crimes_nyc_ros.loc[[2022, 2023]]\n",
    "total_2022_2023_nyc_df = sub[\"New York City\"] + sub[\"Rest of State\"]\n",
    "total_2022_2023_nyc_df"
   ]
  },
  {
   "cell_type": "code",
   "execution_count": null,
   "id": "8a63abef-27d6-445d-acde-82e7126601ba",
   "metadata": {},
   "outputs": [],
   "source": [
    "# this code scrawl from the web page. Aim to get the crime data of NY state hate crime data.\n",
    "# to understand this code you should go the webpage of this url and inspect the webpage.\n",
    "from bs4 import BeautifulSoup\n",
    "import requests\n",
    "res = requests.get(\"https://www.justice.gov/hatecrimes/state-data/new-york\")\n",
    "bs = BeautifulSoup(res.content,\"html.parser\")\n",
    "# find the first table. The Bias Motivation Cateogry by Year table.\n",
    "rows = bs.find(\"table\").find_all(\"tr\")\n",
    "# the first element is \"Bias Movivation Category\" should ignore.\n",
    "columns = [p.text for p in rows[0]][1:] \n",
    "df = pd.DataFrame(columns = [int(c) for c in columns])\n",
    "\n",
    "for row in rows[1:]:\n",
    "    # replace parse 1'048 to 1048, thus int() can parse it to integer successfully.\n",
    "    vals = [int(p.text.replace(',','')) for p in row.find_all(\"p\")]\n",
    "    # get the category of bias motivation\n",
    "    idx = row.find(\"strong\").text\n",
    "    df.loc[idx] = vals\n",
    "# explanation about 2021 data in the webpage:\n",
    "# 2021 was the first year that the annual hate crimes statistics were reported entirely\n",
    "# through the National Incident-Based Reporting System (NIBRS).  As a result of the shift \n",
    "# to NIBRS-only data collection, law enforcement agency participation in submitting all \n",
    "# crime statistics, including hate crimes, fell significantly from 2020 to 2021.  \n",
    "# so drop it.\n",
    "df.drop(2021, axis = 1, inplace = True)\n",
    "df = pd.concat([df.loc['Total:'],total_2022_2023_nyc_df], axis = 1, ignore_index = True)\n",
    "df.columns = [\"Federal Data\", \"NYC Data\"]\n",
    "df"
   ]
  },
  {
   "cell_type": "code",
   "execution_count": null,
   "id": "8e9864b6-71fd-48ae-a6e1-94073302eda3",
   "metadata": {},
   "outputs": [],
   "source": [
    "# Data Source need to manually download from https://cde.ucr.cjis.gov/LATEST/webapp/#/pages/downloads#nibrs-downloads\n",
    "NIBRS_HATECRIME_DATA = r\"data\\nibrs\\hate_crime\\hate_crime.csv\"\n",
    "df = pd.read_csv(NIBRS_HATECRIME_DATA)\n",
    "\n",
    "# first step, only need NY state data.\n",
    "df = df[df[\"state_abbr\"] == \"NY\"]\n",
    "# New York City, year range 2019-2024, Anti-Jewish data\n",
    "df = df[(df[\"pug_agency_name\"] == \"New York\") & (df[\"data_year\"].isin(list(range(2019, 2025))))].reset_index()\n",
    "offender_race = df[\"offender_race\"].value_counts()\n",
    "offender_race.index.name = \"Offender Race\"\n",
    "offender_race.to_csv(\"offender_race.csv\")\n",
    "offender_race"
   ]
  },
  {
   "cell_type": "code",
   "execution_count": null,
   "id": "51f0a700-b979-4100-ab86-393626e55190",
   "metadata": {},
   "outputs": [],
   "source": []
  }
 ],
 "metadata": {
  "kernelspec": {
   "display_name": "Python [conda env:base] *",
   "language": "python",
   "name": "conda-base-py"
  },
  "language_info": {
   "codemirror_mode": {
    "name": "ipython",
    "version": 3
   },
   "file_extension": ".py",
   "mimetype": "text/x-python",
   "name": "python",
   "nbconvert_exporter": "python",
   "pygments_lexer": "ipython3",
   "version": "3.12.7"
  }
 },
 "nbformat": 4,
 "nbformat_minor": 5
}
